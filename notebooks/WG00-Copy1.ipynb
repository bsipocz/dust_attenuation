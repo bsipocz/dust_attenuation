{
 "cells": [
  {
   "cell_type": "code",
   "execution_count": null,
   "metadata": {
    "collapsed": false
   },
   "outputs": [],
   "source": [
    "from IPython.display import HTML\n",
    "HTML('''<script>\n",
    "  function code_toggle() {\n",
    "    if (code_shown){\n",
    "      $('div.input').hide('500');\n",
    "      $('#toggleButton').val('Show Code')\n",
    "    } else {\n",
    "      $('div.input').show('500');\n",
    "      $('#toggleButton').val('Hide Code')\n",
    "    }\n",
    "    code_shown = !code_shown\n",
    "  }\n",
    "\n",
    "  $( document ).ready(function(){\n",
    "    code_shown=false;\n",
    "    $('div.input').hide()\n",
    "  });\n",
    "</script>\n",
    "<form action=\"javascript:code_toggle()\"><input type=\"submit\" id=\"toggleButton\" value=\"Show Code\"></form>''')"
   ]
  },
  {
   "cell_type": "code",
   "execution_count": null,
   "metadata": {
    "collapsed": false
   },
   "outputs": [],
   "source": [
    "%matplotlib notebook\n",
    "\n",
    "import numpy as np\n",
    "import matplotlib.pyplot as plt\n",
    "from astropy.io import ascii\n",
    "from astropy.table import Table\n",
    "from scipy.interpolate import interp1d \n"
   ]
  },
  {
   "cell_type": "code",
   "execution_count": null,
   "metadata": {
    "collapsed": true
   },
   "outputs": [],
   "source": [
    "filename1='MW_dust.txt'\n",
    "filename2='../dust_attenuation/data/WG00/shell.txt'\n",
    "filename3='../dust_attenuation/data/WG00/dusty.txt'\n",
    "filename4='../dust_attenuation/data/WG00/cloudy.txt'"
   ]
  },
  {
   "cell_type": "code",
   "execution_count": null,
   "metadata": {
    "collapsed": false
   },
   "outputs": [],
   "source": [
    "#dust_prop=ascii.read(filename1,header_start=0)\n",
    "shell=ascii.read(filename2,header_start=0)\n",
    "dusty=ascii.read(filename3,header_start=0)\n",
    "cloudy=ascii.read(filename4,header_start=0)"
   ]
  },
  {
   "cell_type": "code",
   "execution_count": null,
   "metadata": {
    "collapsed": false
   },
   "outputs": [],
   "source": [
    "shell"
   ]
  },
  {
   "cell_type": "code",
   "execution_count": null,
   "metadata": {
    "collapsed": true
   },
   "outputs": [],
   "source": [
    "V_band=5500"
   ]
  },
  {
   "cell_type": "code",
   "execution_count": null,
   "metadata": {
    "collapsed": false
   },
   "outputs": [],
   "source": [
    "#tau_table=dict('0.25_MW'= 0,'0.25_SMC'=25,'0.5_MW'=50,'0.5_SMC'=75)"
   ]
  },
  {
   "cell_type": "code",
   "execution_count": null,
   "metadata": {
    "collapsed": false
   },
   "outputs": [],
   "source": [
    "#shell[50:75]"
   ]
  },
  {
   "cell_type": "markdown",
   "metadata": {},
   "source": [
    "# MW dust"
   ]
  },
  {
   "cell_type": "markdown",
   "metadata": {},
   "source": [
    "## Shell"
   ]
  },
  {
   "cell_type": "code",
   "execution_count": null,
   "metadata": {
    "collapsed": false
   },
   "outputs": [],
   "source": [
    "nb_wvl=25\n",
    "tau=0.25\n",
    "tau_shell_mw_25 = interp1d(shell['lambda'][:25],shell['tau'][:25],kind='linear')\n",
    "tau_shell_h_25 = interp1d(shell['lambda'][:25],shell['tau_att_h'][:25],kind='linear')\n",
    "tau_shell_c_25 = interp1d(shell['lambda'][:25],shell['tau_att_c'][:25],kind='linear')\n",
    "tau_shell_mw_50 = interp1d(shell['lambda'][50:75],shell['tau'][50:75],kind='linear')\n",
    "tau_shell_h_50 = interp1d(shell['lambda'][50:75],shell['tau_att_h'][50:75],kind='linear')\n",
    "tau_shell_c_50 = interp1d(shell['lambda'][50:75],shell['tau_att_c'][50:75],kind='linear')\n",
    "#y_new = f(x_new)"
   ]
  },
  {
   "cell_type": "code",
   "execution_count": null,
   "metadata": {
    "collapsed": false
   },
   "outputs": [],
   "source": [
    "tau_shell_mw_25(V_band),tau_shell_h_25(V_band),tau_shell_c_25(V_band)"
   ]
  },
  {
   "cell_type": "code",
   "execution_count": null,
   "metadata": {
    "collapsed": false
   },
   "outputs": [],
   "source": [
    "fig,ax = plt.subplots(1,2)\n",
    "ax[0].plot(1e4/shell['lambda'][:25],shell['tau'][:25]/tau_shell_mw_25(V_band),label=r'MW ext')\n",
    "ax[0].plot(1e4/shell['lambda'][:25],shell['tau_att_h'][:25]/tau_shell_h_25(V_band),label=r'SHELL h')\n",
    "ax[0].plot(1e4/shell['lambda'][:25],shell['tau_att_c'][:25]/tau_shell_c_25(V_band),label=r'SHELL c')\n",
    "\n",
    "ax[0].set_xlabel(r'1 / $\\lambda$ [$\\mu m^{-1}$]')\n",
    "ax[0].set_ylabel(r'$\\tau$/$\\tau_{V}$')\n",
    "ax[0].legend(loc='upper left')\n",
    "\n",
    "ax[1].plot(1e4/shell['lambda'][50:75],shell['tau'][50:75]/tau_shell_mw_50(V_band),label=r'MW ext')\n",
    "ax[1].plot(1e4/shell['lambda'][50:75],shell['tau_att_h'][50:75]/tau_shell_h_50(V_band),label=r'SHELL h')\n",
    "ax[1].plot(1e4/shell['lambda'][50:75],shell['tau_att_c'][50:75]/tau_shell_c_50(V_band),label=r'SHELL c')\n",
    "\n",
    "ax[1].set_xlabel(r'1 / $\\lambda$ [$\\mu m^{-1}$]')\n",
    "ax[1].set_ylabel(r'$\\tau$/$\\tau_{V}$')\n",
    "ax[1].legend(loc='upper left')\n",
    "\n",
    "\n",
    "\n",
    "ax[0].set_ylim(0,8)\n",
    "ax[1].set_ylim(0,8)\n",
    "#plt.xlim(1,7)\n",
    "ax[0].grid(True)\n",
    "ax[1].grid(True)\n",
    "\n",
    "ax[0].set_title(r'SHELL with MW dust, $\\tau$=0.25')\n",
    "\n",
    "ax[1].set_title(r'SHELL with MW dust, $\\tau$=0.50')\n",
    "plt.minorticks_on()\n",
    "plt.legend()\n"
   ]
  },
  {
   "cell_type": "code",
   "execution_count": null,
   "metadata": {
    "collapsed": false
   },
   "outputs": [],
   "source": [
    "fig,ax = plt.subplots(1,2)\n",
    "ax[0].plot(1e4/shell['lambda'][:25],shell['tau'][:25],label=r'MW ext')\n",
    "ax[0].plot(1e4/shell['lambda'][:25],shell['tau_att_h'][:25],label=r'SHELL h')\n",
    "ax[0].plot(1e4/shell['lambda'][:25],shell['tau_att_c'][:25],label=r'SHELL c')\n",
    "\n",
    "ax[0].set_xlabel(r'1 / $\\lambda$ [$\\mu m^{-1}$]')\n",
    "ax[0].set_ylabel(r'$\\tau$')\n",
    "ax[0].legend(loc='upper left')\n",
    "\n",
    "ax[1].plot(1e4/shell['lambda'][50:75],shell['tau'][50:75],label=r'MW ext')\n",
    "ax[1].plot(1e4/shell['lambda'][50:75],shell['tau_att_h'][50:75],label=r'SHELL h')\n",
    "ax[1].plot(1e4/shell['lambda'][50:75],shell['tau_att_c'][50:75],label=r'SHELL c')\n",
    "\n",
    "ax[1].set_xlabel(r'1 / $\\lambda$ [$\\mu m^{-1}$]')\n",
    "ax[1].set_ylabel(r'$\\tau$')\n",
    "ax[1].legend(loc='upper left')\n",
    "\n",
    "\n",
    "\n",
    "ax[0].set_ylim(0,2)\n",
    "ax[1].set_ylim(0,2)\n",
    "#plt.xlim(1,7)\n",
    "ax[0].grid(True)\n",
    "ax[1].grid(True)\n",
    "\n",
    "ax[0].set_title(r'SHELL with MW dust, $\\tau$=0.25')\n",
    "\n",
    "ax[1].set_title(r'SHELL with MW dust, $\\tau$=0.50')\n",
    "plt.minorticks_on()\n",
    "plt.legend()\n"
   ]
  },
  {
   "cell_type": "markdown",
   "metadata": {
    "collapsed": true
   },
   "source": [
    "## Dusty"
   ]
  },
  {
   "cell_type": "code",
   "execution_count": null,
   "metadata": {
    "collapsed": true
   },
   "outputs": [],
   "source": [
    "nb_wvl=25\n",
    "tau=0.25\n",
    "tau_dusty_mw_25 = interp1d(dusty['lambda'][:25],dusty['tau'][:25],kind='linear')\n",
    "tau_dusty_h_25 = interp1d(dusty['lambda'][:25],dusty['tau_att_h'][:25],kind='linear')\n",
    "tau_dusty_c_25 = interp1d(dusty['lambda'][:25],dusty['tau_att_c'][:25],kind='linear')\n",
    "tau_dusty_mw_50 = interp1d(dusty['lambda'][50:75],dusty['tau'][50:75],kind='linear')\n",
    "tau_dusty_h_50 = interp1d(dusty['lambda'][50:75],dusty['tau_att_h'][50:75],kind='linear')\n",
    "tau_dusty_c_50 = interp1d(dusty['lambda'][50:75],dusty['tau_att_c'][50:75],kind='linear')"
   ]
  },
  {
   "cell_type": "code",
   "execution_count": null,
   "metadata": {
    "collapsed": false
   },
   "outputs": [],
   "source": [
    "tau_dusty_mw_25(V_band),tau_dusty_h_25(V_band),tau_dusty_c_25(V_band)"
   ]
  },
  {
   "cell_type": "code",
   "execution_count": null,
   "metadata": {
    "collapsed": false
   },
   "outputs": [],
   "source": [
    "fig,ax = plt.subplots(1,2)\n",
    "ax[0].plot(1e4/dusty['lambda'][:25],dusty['tau'][:25]/tau_dusty_mw_25(V_band),label=r'MW ext')\n",
    "ax[0].plot(1e4/dusty['lambda'][:25],dusty['tau_att_h'][:25]/tau_dusty_h_25(V_band),label=r'DUSTY h')\n",
    "ax[0].plot(1e4/dusty['lambda'][:25],dusty['tau_att_c'][:25]/tau_dusty_c_25(V_band),label=r'DUSTY c')\n",
    "\n",
    "ax[0].set_xlabel(r'1 / $\\lambda$ [$\\mu m^{-1}$]')\n",
    "ax[0].set_ylabel(r'$\\tau$/$\\tau_{V}$')\n",
    "ax[0].legend(loc='upper left')\n",
    "\n",
    "ax[1].plot(1e4/dusty['lambda'][50:75],dusty['tau'][50:75]/tau_dusty_mw_50(V_band),label=r'MW ext')\n",
    "ax[1].plot(1e4/dusty['lambda'][50:75],dusty['tau_att_h'][50:75]/tau_dusty_h_50(V_band),label=r'DUSTY h')\n",
    "ax[1].plot(1e4/dusty['lambda'][50:75],dusty['tau_att_c'][50:75]/tau_dusty_c_50(V_band),label=r'DUSTY c')\n",
    "\n",
    "ax[1].set_xlabel(r'1 / $\\lambda$ [$\\mu m^{-1}$]')\n",
    "ax[1].set_ylabel(r'$\\tau$/$\\tau_{V}$')\n",
    "ax[1].legend(loc='upper left')\n",
    "\n",
    "\n",
    "\n",
    "ax[0].set_ylim(0,8)\n",
    "ax[1].set_ylim(0,8)\n",
    "#plt.xlim(1,7)\n",
    "ax[0].grid(True)\n",
    "ax[1].grid(True)\n",
    "\n",
    "ax[0].set_title(r'DUSTY with MW dust, $\\tau$=0.25')\n",
    "\n",
    "ax[1].set_title(r'DUSTY with MW dust, $\\tau$=0.50')\n",
    "plt.minorticks_on()\n",
    "plt.legend()"
   ]
  },
  {
   "cell_type": "code",
   "execution_count": null,
   "metadata": {
    "collapsed": false
   },
   "outputs": [],
   "source": [
    "fig,ax = plt.subplots(1,2)\n",
    "ax[0].plot(1e4/dusty['lambda'][:25],dusty['tau'][:25],label=r'MW ext')\n",
    "ax[0].plot(1e4/dusty['lambda'][:25],dusty['tau_att_h'][:25],label=r'DUSTY h')\n",
    "ax[0].plot(1e4/dusty['lambda'][:25],dusty['tau_att_c'][:25],label=r'DUSTY c')\n",
    "\n",
    "ax[0].set_xlabel(r'1 / $\\lambda$ [$\\mu m^{-1}$]')\n",
    "ax[0].set_ylabel(r'$\\tau$')\n",
    "ax[0].legend(loc='upper left')\n",
    "\n",
    "ax[1].plot(1e4/dusty['lambda'][50:75],dusty['tau'][50:75],label=r'MW ext')\n",
    "ax[1].plot(1e4/dusty['lambda'][50:75],dusty['tau_att_h'][50:75],label=r'DUSTY h')\n",
    "ax[1].plot(1e4/dusty['lambda'][50:75],dusty['tau_att_c'][50:75],label=r'DUSTY c')\n",
    "\n",
    "ax[1].set_xlabel(r'1 / $\\lambda$ [$\\mu m^{-1}$]')\n",
    "ax[1].set_ylabel(r'$\\tau$')\n",
    "ax[1].legend(loc='upper left')\n",
    "\n",
    "\n",
    "\n",
    "ax[0].set_ylim(0,2)\n",
    "ax[1].set_ylim(0,2)\n",
    "#plt.xlim(1,7)\n",
    "ax[0].grid(True)\n",
    "ax[1].grid(True)\n",
    "\n",
    "ax[0].set_title(r'DUSTY with MW dust, $\\tau$=0.25')\n",
    "\n",
    "ax[1].set_title(r'DUSTY with MW dust, $\\tau$=0.50')\n",
    "plt.minorticks_on()\n",
    "plt.legend()"
   ]
  },
  {
   "cell_type": "markdown",
   "metadata": {},
   "source": [
    "## Cloudy"
   ]
  },
  {
   "cell_type": "code",
   "execution_count": null,
   "metadata": {
    "collapsed": false
   },
   "outputs": [],
   "source": [
    "nb_wvl=25\n",
    "tau=0.25\n",
    "tau_cloudy_mw_25 = interp1d(cloudy['lambda'][:25],cloudy['tau'][:25],kind='linear')\n",
    "tau_cloudy_h_25 = interp1d(cloudy['lambda'][:25],cloudy['tau_att_h'][:25],kind='linear')\n",
    "tau_cloudy_c_25 = interp1d(cloudy['lambda'][:25],cloudy['tau_att_c'][:25],kind='linear')\n",
    "tau_cloudy_mw_50 = interp1d(cloudy['lambda'][50:75],cloudy['tau'][50:75],kind='linear')\n",
    "tau_cloudy_h_50 = interp1d(cloudy['lambda'][50:75],cloudy['tau_att_h'][50:75],kind='linear')\n",
    "tau_cloudy_c_50 = interp1d(cloudy['lambda'][50:75],cloudy['tau_att_c'][50:75],kind='linear')"
   ]
  },
  {
   "cell_type": "code",
   "execution_count": null,
   "metadata": {
    "collapsed": false
   },
   "outputs": [],
   "source": [
    "tau_cloudy_mw_25(V_band),tau_cloudy_h_25(V_band),tau_cloudy_c_25(V_band)"
   ]
  },
  {
   "cell_type": "code",
   "execution_count": null,
   "metadata": {
    "collapsed": false
   },
   "outputs": [],
   "source": [
    "fig,ax = plt.subplots(1,2)\n",
    "ax[0].plot(1e4/cloudy['lambda'][:25],cloudy['tau'][:25]/tau_cloudy_mw_25(V_band),label=r'MW ext')\n",
    "ax[0].plot(1e4/cloudy['lambda'][:25],cloudy['tau_att_h'][:25]/tau_cloudy_h_25(V_band),label=r'CLOUDY h')\n",
    "ax[0].plot(1e4/cloudy['lambda'][:25],cloudy['tau_att_c'][:25]/tau_cloudy_c_25(V_band),label=r'CLOUDY c')\n",
    "\n",
    "ax[0].set_xlabel(r'1 / $\\lambda$ [$\\mu m^{-1}$]')\n",
    "ax[0].set_ylabel(r'$\\tau$/$\\tau_{V}$')\n",
    "ax[0].legend(loc='upper left')\n",
    "\n",
    "ax[1].plot(1e4/cloudy['lambda'][50:75],cloudy['tau'][50:75]/tau_cloudy_mw_50(V_band),label=r'MW ext')\n",
    "ax[1].plot(1e4/cloudy['lambda'][50:75],cloudy['tau_att_h'][50:75]/tau_cloudy_h_50(V_band),label=r'CLOUDY h')\n",
    "ax[1].plot(1e4/cloudy['lambda'][50:75],cloudy['tau_att_c'][50:75]/tau_cloudy_c_50(V_band),label=r'CLOUDY c')\n",
    "\n",
    "ax[1].set_xlabel(r'1 / $\\lambda$ [$\\mu m^{-1}$]')\n",
    "ax[1].set_ylabel(r'$\\tau$/$\\tau_{V}$')\n",
    "ax[1].legend(loc='upper left')\n",
    "\n",
    "\n",
    "\n",
    "ax[0].set_ylim(0,8)\n",
    "ax[1].set_ylim(0,8)\n",
    "#plt.xlim(1,7)\n",
    "ax[0].grid(True)\n",
    "ax[1].grid(True)\n",
    "\n",
    "ax[0].set_title(r'CLOUDY with MW dust, $\\tau$=0.25')\n",
    "\n",
    "ax[1].set_title(r'CLOUDY with MW dust, $\\tau$=0.50')\n",
    "plt.minorticks_on()\n",
    "plt.legend()"
   ]
  },
  {
   "cell_type": "code",
   "execution_count": null,
   "metadata": {
    "collapsed": false
   },
   "outputs": [],
   "source": [
    "fig,ax = plt.subplots(1,2)\n",
    "ax[0].plot(1e4/cloudy['lambda'][:25],cloudy['tau'][:25],label=r'MW ext')\n",
    "ax[0].plot(1e4/cloudy['lambda'][:25],cloudy['tau_att_h'][:25],label=r'CLOUDY h')\n",
    "ax[0].plot(1e4/cloudy['lambda'][:25],cloudy['tau_att_c'][:25],label=r'CLOUDY c')\n",
    "\n",
    "ax[0].set_xlabel(r'1 / $\\lambda$ [$\\mu m^{-1}$]')\n",
    "ax[0].set_ylabel(r'$\\tau$')\n",
    "ax[0].legend(loc='upper left')\n",
    "\n",
    "ax[1].plot(1e4/cloudy['lambda'][50:75],cloudy['tau'][50:75],label=r'MW ext')\n",
    "ax[1].plot(1e4/cloudy['lambda'][50:75],cloudy['tau_att_h'][50:75],label=r'CLOUDY h')\n",
    "ax[1].plot(1e4/cloudy['lambda'][50:75],cloudy['tau_att_c'][50:75],label=r'CLOUDY c')\n",
    "\n",
    "ax[1].set_xlabel(r'1 / $\\lambda$ [$\\mu m^{-1}$]')\n",
    "ax[1].set_ylabel(r'$\\tau$')\n",
    "ax[1].legend(loc='upper left')\n",
    "\n",
    "\n",
    "\n",
    "ax[0].set_ylim(0,2)\n",
    "ax[1].set_ylim(0,2)\n",
    "#plt.xlim(1,7)\n",
    "ax[0].grid(True)\n",
    "ax[1].grid(True)\n",
    "\n",
    "ax[0].set_title(r'CLOUDY with MW dust, $\\tau$=0.25')\n",
    "\n",
    "ax[1].set_title(r'CLOUDY with MW dust, $\\tau$=0.50')\n",
    "plt.minorticks_on()\n",
    "plt.legend()"
   ]
  },
  {
   "cell_type": "code",
   "execution_count": null,
   "metadata": {
    "collapsed": true
   },
   "outputs": [],
   "source": []
  },
  {
   "cell_type": "markdown",
   "metadata": {},
   "source": [
    "# SMC dust"
   ]
  },
  {
   "cell_type": "markdown",
   "metadata": {},
   "source": [
    "## SHELL"
   ]
  },
  {
   "cell_type": "code",
   "execution_count": null,
   "metadata": {
    "collapsed": true
   },
   "outputs": [],
   "source": [
    "tau_shell_smc_25 = interp1d(shell['lambda'][25:50],shell['tau'][25:50],kind='linear')\n",
    "tau_shell_smc_h_25 = interp1d(shell['lambda'][25:50],shell['tau_att_h'][25:50],kind='linear')\n",
    "tau_shell_smc_c_25 = interp1d(shell['lambda'][25:50],shell['tau_att_c'][25:50],kind='linear')\n",
    "tau_shell_smc_50 = interp1d(shell['lambda'][75:100],shell['tau'][75:100],kind='linear')\n",
    "tau_shell_smc_h_50 = interp1d(shell['lambda'][75:100],shell['tau_att_h'][75:100],kind='linear')\n",
    "tau_shell_smc_c_50 = interp1d(shell['lambda'][75:100],shell['tau_att_c'][75:100],kind='linear')"
   ]
  },
  {
   "cell_type": "code",
   "execution_count": null,
   "metadata": {
    "collapsed": false
   },
   "outputs": [],
   "source": [
    "tau_shell_smc_25(V_band),tau_shell_smc_h_25(V_band),tau_shell_smc_c_25(V_band)"
   ]
  },
  {
   "cell_type": "code",
   "execution_count": null,
   "metadata": {
    "collapsed": false
   },
   "outputs": [],
   "source": [
    "fig,ax = plt.subplots(1,2)\n",
    "ax[0].plot(1e4/shell['lambda'][25:50],shell['tau'][25:50]/tau_shell_smc_25(V_band),label=r'SMC ext')\n",
    "ax[0].plot(1e4/shell['lambda'][25:50],shell['tau_att_h'][25:50]/tau_shell_smc_h_25(V_band),label=r'SHELL h')\n",
    "ax[0].plot(1e4/shell['lambda'][25:50],shell['tau_att_c'][25:50]/tau_shell_smc_c_25(V_band),label=r'SHELL c')\n",
    "\n",
    "ax[0].set_xlabel(r'1 / $\\lambda$ [$\\mu m^{-1}$]')\n",
    "ax[0].set_ylabel(r'$\\tau$/$\\tau_{V}$')\n",
    "ax[0].legend(loc='upper left')\n",
    "\n",
    "ax[1].plot(1e4/shell['lambda'][75:100],shell['tau'][75:100]/tau_shell_smc_50(V_band),label=r'SMC ext')\n",
    "ax[1].plot(1e4/shell['lambda'][75:100],shell['tau_att_h'][75:100]/tau_shell_smc_h_50(V_band),label=r'SHELL h')\n",
    "ax[1].plot(1e4/shell['lambda'][75:100],shell['tau_att_c'][75:100]/tau_shell_smc_c_50(V_band),label=r'SHELL c')\n",
    "\n",
    "ax[1].set_xlabel(r'1 / $\\lambda$ [$\\mu m^{-1}$]')\n",
    "ax[1].set_ylabel(r'$\\tau$/$\\tau_{V}$')\n",
    "ax[1].legend(loc='upper left')\n",
    "\n",
    "\n",
    "\n",
    "ax[0].set_ylim(0,10)\n",
    "ax[1].set_ylim(0,10)\n",
    "#plt.xlim(1,7)\n",
    "ax[0].grid(True)\n",
    "ax[1].grid(True)\n",
    "\n",
    "ax[0].set_title(r'SHELL with SMC dust, $\\tau$=0.25')\n",
    "\n",
    "ax[1].set_title(r'SHELL with SMC dust, $\\tau$=0.50')\n",
    "plt.minorticks_on()\n",
    "plt.legend()"
   ]
  },
  {
   "cell_type": "code",
   "execution_count": null,
   "metadata": {
    "collapsed": false
   },
   "outputs": [],
   "source": [
    "fig,ax = plt.subplots(1,2)\n",
    "ax[0].plot(1e4/shell['lambda'][25:50],shell['tau'][25:50],label=r'SMC ext')\n",
    "ax[0].plot(1e4/shell['lambda'][25:50],shell['tau_att_h'][25:50],label=r'SHELL h')\n",
    "ax[0].plot(1e4/shell['lambda'][25:50],shell['tau_att_c'][25:50],label=r'SHELL c')\n",
    "\n",
    "ax[0].set_xlabel(r'1 / $\\lambda$ [$\\mu m^{-1}$]')\n",
    "ax[0].set_ylabel(r'$\\tau$')\n",
    "ax[0].legend(loc='upper left')\n",
    "\n",
    "ax[1].plot(1e4/shell['lambda'][75:100],shell['tau'][75:100],label=r'SMC ext')\n",
    "ax[1].plot(1e4/shell['lambda'][75:100],shell['tau_att_h'][75:100],label=r'SHELL h')\n",
    "ax[1].plot(1e4/shell['lambda'][75:100],shell['tau_att_c'][75:100],label=r'SHELL c')\n",
    "\n",
    "ax[1].set_xlabel(r'1 / $\\lambda$ [$\\mu m^{-1}$]')\n",
    "ax[1].set_ylabel(r'$\\tau$')\n",
    "ax[1].legend(loc='upper left')\n",
    "\n",
    "\n",
    "\n",
    "ax[0].set_ylim(0,4)\n",
    "ax[1].set_ylim(0,4)\n",
    "#plt.xlim(1,7)\n",
    "ax[0].grid(True)\n",
    "ax[1].grid(True)\n",
    "\n",
    "ax[0].set_title(r'SHELL with SMC dust, $\\tau$=0.25')\n",
    "\n",
    "ax[1].set_title(r'SHELL with SMC dust, $\\tau$=0.50')\n",
    "plt.minorticks_on()\n",
    "plt.legend()"
   ]
  },
  {
   "cell_type": "markdown",
   "metadata": {},
   "source": [
    "## DUSTY"
   ]
  },
  {
   "cell_type": "code",
   "execution_count": null,
   "metadata": {
    "collapsed": true
   },
   "outputs": [],
   "source": [
    "tau_dusty_smc_25 = interp1d(dusty['lambda'][25:50],dusty['tau'][25:50],kind='linear')\n",
    "tau_dusty_smc_h_25 = interp1d(dusty['lambda'][25:50],dusty['tau_att_h'][25:50],kind='linear')\n",
    "tau_dusty_smc_c_25 = interp1d(dusty['lambda'][25:50],dusty['tau_att_c'][25:50],kind='linear')\n",
    "tau_dusty_smc_50 = interp1d(dusty['lambda'][75:100],dusty['tau'][75:100],kind='linear')\n",
    "tau_dusty_smc_h_50 = interp1d(dusty['lambda'][75:100],dusty['tau_att_h'][75:100],kind='linear')\n",
    "tau_dusty_smc_c_50 = interp1d(dusty['lambda'][75:100],dusty['tau_att_c'][75:100],kind='linear')"
   ]
  },
  {
   "cell_type": "code",
   "execution_count": null,
   "metadata": {
    "collapsed": false
   },
   "outputs": [],
   "source": [
    "tau_dusty_smc_25(V_band),tau_dusty_smc_h_25(V_band),tau_dusty_smc_c_25(V_band)"
   ]
  },
  {
   "cell_type": "code",
   "execution_count": null,
   "metadata": {
    "collapsed": false
   },
   "outputs": [],
   "source": [
    "fig,ax = plt.subplots(1,2)\n",
    "ax[0].plot(1e4/dusty['lambda'][25:50],dusty['tau'][25:50]/tau_dusty_smc_25(V_band),label=r'SMC ext')\n",
    "ax[0].plot(1e4/dusty['lambda'][25:50],dusty['tau_att_h'][25:50]/tau_dusty_smc_h_25(V_band),label=r'DUSTY h')\n",
    "ax[0].plot(1e4/dusty['lambda'][25:50],dusty['tau_att_c'][25:50]/tau_dusty_smc_c_25(V_band),label=r'DUSTY c')\n",
    "\n",
    "ax[0].set_xlabel(r'1 / $\\lambda$ [$\\mu m^{-1}$]')\n",
    "ax[0].set_ylabel(r'$\\tau$/$\\tau_{V}$')\n",
    "ax[0].legend(loc='upper left')\n",
    "\n",
    "ax[1].plot(1e4/dusty['lambda'][75:100],dusty['tau'][75:100]/tau_dusty_smc_50(V_band),label=r'SMC ext')\n",
    "ax[1].plot(1e4/dusty['lambda'][75:100],dusty['tau_att_h'][75:100]/tau_dusty_smc_h_50(V_band),label=r'DUSTY h')\n",
    "ax[1].plot(1e4/dusty['lambda'][75:100],dusty['tau_att_c'][75:100]/tau_dusty_smc_c_50(V_band),label=r'DUSTY c')\n",
    "\n",
    "ax[1].set_xlabel(r'1 / $\\lambda$ [$\\mu m^{-1}$]')\n",
    "ax[1].set_ylabel(r'$\\tau$/$\\tau_{V}$')\n",
    "ax[1].legend(loc='upper left')\n",
    "\n",
    "\n",
    "\n",
    "ax[0].set_ylim(0,10)\n",
    "ax[1].set_ylim(0,10)\n",
    "#plt.xlim(1,7)\n",
    "ax[0].grid(True)\n",
    "ax[1].grid(True)\n",
    "\n",
    "ax[0].set_title(r'DUSTY with SMC dust, $\\tau$=0.25')\n",
    "\n",
    "ax[1].set_title(r'DUSTY with SMC dust, $\\tau$=0.50')\n",
    "plt.minorticks_on()\n",
    "plt.legend()"
   ]
  },
  {
   "cell_type": "code",
   "execution_count": null,
   "metadata": {
    "collapsed": false
   },
   "outputs": [],
   "source": [
    "fig,ax = plt.subplots(1,2)\n",
    "ax[0].plot(1e4/dusty['lambda'][25:50],dusty['tau'][25:50],label=r'SMC ext')\n",
    "ax[0].plot(1e4/dusty['lambda'][25:50],dusty['tau_att_h'][25:50],label=r'DUSTY h')\n",
    "ax[0].plot(1e4/dusty['lambda'][25:50],dusty['tau_att_c'][25:50],label=r'DUSTY c')\n",
    "\n",
    "ax[0].set_xlabel(r'1 / $\\lambda$ [$\\mu m^{-1}$]')\n",
    "ax[0].set_ylabel(r'$\\tau$')\n",
    "ax[0].legend(loc='upper left')\n",
    "\n",
    "ax[1].plot(1e4/dusty['lambda'][75:100],dusty['tau'][75:100],label=r'SMC ext')\n",
    "ax[1].plot(1e4/dusty['lambda'][75:100],dusty['tau_att_h'][75:100],label=r'DUSTY h')\n",
    "ax[1].plot(1e4/dusty['lambda'][75:100],dusty['tau_att_c'][75:100],label=r'DUSTY c')\n",
    "\n",
    "ax[1].set_xlabel(r'1 / $\\lambda$ [$\\mu m^{-1}$]')\n",
    "ax[1].set_ylabel(r'$\\tau$')\n",
    "ax[1].legend(loc='upper left')\n",
    "\n",
    "\n",
    "\n",
    "ax[0].set_ylim(0,4)\n",
    "ax[1].set_ylim(0,4)\n",
    "#plt.xlim(1,7)\n",
    "ax[0].grid(True)\n",
    "ax[1].grid(True)\n",
    "\n",
    "ax[0].set_title(r'DUSTY with SMC dust, $\\tau$=0.25')\n",
    "\n",
    "ax[1].set_title(r'DUSTY with SMC dust, $\\tau$=0.50')\n",
    "plt.minorticks_on()\n",
    "plt.legend()"
   ]
  },
  {
   "cell_type": "markdown",
   "metadata": {},
   "source": [
    "## CLOUDY"
   ]
  },
  {
   "cell_type": "code",
   "execution_count": null,
   "metadata": {
    "collapsed": true
   },
   "outputs": [],
   "source": [
    "tau_cloudy_smc_25 = interp1d(cloudy['lambda'][25:50],cloudy['tau'][25:50],kind='linear')\n",
    "tau_cloudy_smc_h_25 = interp1d(cloudy['lambda'][25:50],cloudy['tau_att_h'][25:50],kind='linear')\n",
    "tau_cloudy_smc_c_25 = interp1d(cloudy['lambda'][25:50],cloudy['tau_att_c'][25:50],kind='linear')\n",
    "tau_cloudy_smc_50 = interp1d(cloudy['lambda'][75:100],cloudy['tau'][75:100],kind='linear')\n",
    "tau_cloudy_smc_h_50 = interp1d(cloudy['lambda'][75:100],cloudy['tau_att_h'][75:100],kind='linear')\n",
    "tau_cloudy_smc_c_50 = interp1d(cloudy['lambda'][75:100],cloudy['tau_att_c'][75:100],kind='linear')"
   ]
  },
  {
   "cell_type": "code",
   "execution_count": null,
   "metadata": {
    "collapsed": false
   },
   "outputs": [],
   "source": [
    "tau_cloudy_smc_25(V_band),tau_cloudy_smc_h_25(V_band),tau_cloudy_smc_c_25(V_band)"
   ]
  },
  {
   "cell_type": "code",
   "execution_count": null,
   "metadata": {
    "collapsed": false
   },
   "outputs": [],
   "source": [
    "fig,ax = plt.subplots(1,2)\n",
    "ax[0].plot(1e4/cloudy['lambda'][25:50],cloudy['tau'][25:50]/tau_cloudy_smc_25(V_band),label=r'SMC ext')\n",
    "ax[0].plot(1e4/cloudy['lambda'][25:50],cloudy['tau_att_h'][25:50]/tau_cloudy_smc_h_25(V_band),label=r'CLOUDY h')\n",
    "ax[0].plot(1e4/cloudy['lambda'][25:50],cloudy['tau_att_c'][25:50]/tau_cloudy_smc_c_25(V_band),label=r'CLOUDY c')\n",
    "\n",
    "ax[0].set_xlabel(r'1 / $\\lambda$ [$\\mu m^{-1}$]')\n",
    "ax[0].set_ylabel(r'$\\tau$/$\\tau_{V}$')\n",
    "ax[0].legend(loc='upper left')\n",
    "\n",
    "ax[1].plot(1e4/cloudy['lambda'][75:100],cloudy['tau'][75:100]/tau_cloudy_smc_50(V_band),label=r'SMC ext')\n",
    "ax[1].plot(1e4/cloudy['lambda'][75:100],cloudy['tau_att_h'][75:100]/tau_cloudy_smc_h_50(V_band),label=r'CLOUDY h')\n",
    "ax[1].plot(1e4/cloudy['lambda'][75:100],cloudy['tau_att_c'][75:100]/tau_cloudy_smc_c_50(V_band),label=r'CLOUDY c')\n",
    "\n",
    "ax[1].set_xlabel(r'1 / $\\lambda$ [$\\mu m^{-1}$]')\n",
    "ax[1].set_ylabel(r'$\\tau$/$\\tau_{V}$')\n",
    "ax[1].legend(loc='upper left')\n",
    "\n",
    "\n",
    "\n",
    "ax[0].set_ylim(0,10)\n",
    "ax[1].set_ylim(0,10)\n",
    "#plt.xlim(1,7)\n",
    "ax[0].grid(True)\n",
    "ax[1].grid(True)\n",
    "\n",
    "ax[0].set_title(r'CLOUDY with SMC dust, $\\tau$=0.25')\n",
    "\n",
    "ax[1].set_title(r'CLOUDY with SMC dust, $\\tau$=0.50')\n",
    "plt.minorticks_on()\n",
    "plt.legend()"
   ]
  },
  {
   "cell_type": "code",
   "execution_count": null,
   "metadata": {
    "collapsed": false
   },
   "outputs": [],
   "source": [
    "fig,ax = plt.subplots(1,2)\n",
    "ax[0].plot(1e4/cloudy['lambda'][25:50],cloudy['tau'][25:50],label=r'SMC ext')\n",
    "ax[0].plot(1e4/cloudy['lambda'][25:50],cloudy['tau_att_h'][25:50],label=r'CLOUDY h')\n",
    "ax[0].plot(1e4/cloudy['lambda'][25:50],cloudy['tau_att_c'][25:50],label=r'CLOUDY c')\n",
    "\n",
    "ax[0].set_xlabel(r'1 / $\\lambda$ [$\\mu m^{-1}$]')\n",
    "ax[0].set_ylabel(r'$\\tau$')\n",
    "ax[0].legend(loc='upper left')\n",
    "\n",
    "ax[1].plot(1e4/cloudy['lambda'][75:100],cloudy['tau'][75:100],label=r'SMC ext')\n",
    "ax[1].plot(1e4/cloudy['lambda'][75:100],cloudy['tau_att_h'][75:100],label=r'CLOUDY h')\n",
    "ax[1].plot(1e4/cloudy['lambda'][75:100],cloudy['tau_att_c'][75:100],label=r'CLOUDY c')\n",
    "\n",
    "ax[1].set_xlabel(r'1 / $\\lambda$ [$\\mu m^{-1}$]')\n",
    "ax[1].set_ylabel(r'$\\tau$')\n",
    "ax[1].legend(loc='upper left')\n",
    "\n",
    "\n",
    "\n",
    "ax[0].set_ylim(0,4)\n",
    "ax[1].set_ylim(0,4)\n",
    "#plt.xlim(1,7)\n",
    "ax[0].grid(True)\n",
    "ax[1].grid(True)\n",
    "\n",
    "ax[0].set_title(r'CLOUDY with SMC dust, $\\tau$=0.25')\n",
    "\n",
    "ax[1].set_title(r'CLOUDY with SMC dust, $\\tau$=0.50')\n",
    "plt.minorticks_on()\n",
    "plt.legend()"
   ]
  },
  {
   "cell_type": "code",
   "execution_count": null,
   "metadata": {
    "collapsed": true
   },
   "outputs": [],
   "source": []
  },
  {
   "cell_type": "code",
   "execution_count": null,
   "metadata": {
    "collapsed": false
   },
   "outputs": [],
   "source": [
    "HTML('''<script>\n",
    "  $(document).ready(function(){\n",
    "    $('div.prompt').hide();\n",
    "    $('div.back-to-top').hide();\n",
    "    $('nav#menubar').hide();\n",
    "    $('.breadcrumb').hide();\n",
    "    $('.hidden-print').hide();\n",
    "  });\n",
    "</script>\n",
    "\n",
    "<footer id=\"attribution\" style=\"float:right; color:#999; background:#fff;\">\n",
    "Created with Jupyter, delivered by Fastly, rendered by Rackspace.\n",
    "</footer>''')"
   ]
  },
  {
   "cell_type": "markdown",
   "metadata": {
    "collapsed": true
   },
   "source": [
    "# Test with tabular\n"
   ]
  },
  {
   "cell_type": "code",
   "execution_count": null,
   "metadata": {
    "collapsed": true
   },
   "outputs": [],
   "source": [
    "from astropy.modeling.tabular import tabular_model"
   ]
  },
  {
   "cell_type": "code",
   "execution_count": null,
   "metadata": {
    "collapsed": true
   },
   "outputs": [],
   "source": [
    "filename_shell='../dust_attenuation/data/WG00/shell.txt'\n",
    "filename_dusty='../dust_attenuation/data/WG00/dusty.txt'\n",
    "filename_cloudy='../dust_attenuation/data/WG00/cloudy.txt'"
   ]
  },
  {
   "cell_type": "code",
   "execution_count": null,
   "metadata": {
    "collapsed": true
   },
   "outputs": [],
   "source": [
    "geometry = 'cloudy'\n",
    "dust_type = 'MW'\n",
    "dust_distribution = 'clumpy'"
   ]
  },
  {
   "cell_type": "code",
   "execution_count": null,
   "metadata": {
    "collapsed": false
   },
   "outputs": [],
   "source": [
    "\n",
    "if geometry == 'shell':\n",
    "    data = ascii.read(filename_shell,header_start=0)\n",
    "elif geometry == 'dusty':\n",
    "    data=ascii.read(filename_dusty,header_start=0)\n",
    "elif geometry == 'cloudy':\n",
    "    data=ascii.read(filename_cloudy,header_start=0)\n",
    "\n",
    "if dust_type == 'MW': \n",
    "    start = 0\n",
    "elif dust_type == 'SMC':\n",
    "    start = 25\n",
    "\n",
    "if dust_distribution == 'clumpy':\n",
    "    column_name = 'tau_att_c'\n",
    "elif dust_distribution == 'homogeneous':\n",
    "    column_name = 'tau_att_h'\n",
    "    \n",
    "data_list = []\n",
    "len_data = len(data['lambda'])\n",
    "steps = 25\n",
    "\n",
    "counter = start\n",
    "while counter < len_data:\n",
    "    data_list.append(np.array(data[column_name][counter:counter+steps]))\n",
    "    counter += int(2*steps)"
   ]
  },
  {
   "cell_type": "code",
   "execution_count": null,
   "metadata": {
    "collapsed": true
   },
   "outputs": [],
   "source": [
    "wvl = np.array(data['lambda'][0:25])\n",
    "tau_V = np.array([0.25, 0.5, 0.75, 1.0, 1.5, 2.0, 2.5, 3.0, 3.5, \n",
    "                 4.0, 4.5, 5.0, 5.5, 6.0, 7.0, 8.0, 9.0, 10.0, \n",
    "                 15.0, 20.0, 25.0, 30.0, 35.0, 40.0, 45.0, 50.0 ])"
   ]
  },
  {
   "cell_type": "code",
   "execution_count": null,
   "metadata": {
    "collapsed": false
   },
   "outputs": [],
   "source": [
    "len(tau_V)"
   ]
  },
  {
   "cell_type": "code",
   "execution_count": null,
   "metadata": {
    "collapsed": false
   },
   "outputs": [],
   "source": [
    "data_table = np.array(data_list)"
   ]
  },
  {
   "cell_type": "code",
   "execution_count": null,
   "metadata": {
    "collapsed": false
   },
   "outputs": [],
   "source": [
    "data_table.shape"
   ]
  },
  {
   "cell_type": "code",
   "execution_count": null,
   "metadata": {
    "collapsed": true
   },
   "outputs": [],
   "source": [
    "tab = tabular_model(2, name='Tabular_WG00')\n"
   ]
  },
  {
   "cell_type": "code",
   "execution_count": null,
   "metadata": {
    "collapsed": true
   },
   "outputs": [],
   "source": [
    "points = (tau_V, wvl)"
   ]
  },
  {
   "cell_type": "code",
   "execution_count": null,
   "metadata": {
    "collapsed": true
   },
   "outputs": [],
   "source": [
    "m = tab(points, lookup_table=data_list, name='my_table', bounds_error=False, fill_value=None, method='linear')"
   ]
  },
  {
   "cell_type": "code",
   "execution_count": null,
   "metadata": {
    "collapsed": false
   },
   "outputs": [],
   "source": [
    "yinterp = wvl\n",
    "xinterp = 0.35*np.ones(len(wvl))\n",
    "m(xinterp, yinterp)  "
   ]
  },
  {
   "cell_type": "code",
   "execution_count": null,
   "metadata": {
    "collapsed": false
   },
   "outputs": [],
   "source": [
    "fig,ax = plt.subplots(1,2,figsize=(13,6))\n",
    "ax[0].plot(1e4/cloudy['lambda'][0:25],cloudy['tau'][0:25],label=r'MW ext')\n",
    "ax[0].plot(1e4/cloudy['lambda'][0:25],cloudy['tau_att_c'][0:25],label=r'CLOUDY c', ls ='--',lw=3)\n",
    "ax[1].plot(1e4/cloudy['lambda'][0:25],cloudy['tau'][0:25]/tau_cloudy_mw_25(V_band),label=r'MW ext')\n",
    "ax[1].plot(1e4/cloudy['lambda'][0:25],cloudy['tau_att_c'][0:25]/tau_cloudy_c_25(V_band),label=r'CLOUDY c', ls ='--',lw=3)\n",
    "\n",
    "\n",
    "taus_V =[0.25,0.4, 0.7,1.3,13]\n",
    "\n",
    "for tau in taus_V:\n",
    "    yinterp = wvl\n",
    "    xinterp = tau * np.ones(len(wvl))\n",
    "    ax[0].plot(1e4/wvl,m(xinterp, yinterp)  ,label=r'CLOUDY c $\\tau_V$=%.2f' % tau)\n",
    "    yinterp_V = 5500\n",
    "    xinterp_V = tau\n",
    "    ax[1].plot(1e4/wvl,m(xinterp, yinterp) /m(xinterp_V, yinterp_V) ,label=r'CLOUDY c $\\tau_V$=%.2f' % tau)\n",
    "\n",
    "ax[0].set_xlabel(r'1 / $\\lambda$ [$\\mu m^{-1}$]')\n",
    "ax[0].set_ylabel(r'$\\tau$')\n",
    "ax[0].legend(loc='upper left')\n",
    "\n",
    "\n",
    "ax[1].set_xlabel(r'1 / $\\lambda$ [$\\mu m^{-1}$]')\n",
    "ax[1].set_ylabel(r'$\\tau$/$\\tau_{V}$')\n",
    "ax[1].legend(loc='upper left')\n",
    "\n",
    "ax[0].set_ylim(0,4)\n",
    "ax[1].set_ylim(0,4)\n",
    "\n",
    "#plt.xlim(1,7)\n",
    "ax[0].grid(True)\n",
    "ax[1].grid(True)\n",
    "\n",
    "ax[0].set_title(r'%s with %s dust' % (geometry,dust_type))\n",
    "ax[1].set_title(r'%s with %s dust' % (geometry,dust_type))\n",
    "\n",
    "plt.minorticks_on()\n",
    "plt.tight_layout()\n",
    "plt.legend()"
   ]
  },
  {
   "cell_type": "markdown",
   "metadata": {
    "collapsed": true
   },
   "source": [
    "# Call WG00 from dust_attenuation package\n"
   ]
  },
  {
   "cell_type": "code",
   "execution_count": null,
   "metadata": {
    "collapsed": false
   },
   "outputs": [],
   "source": [
    "from dust_attenuation.WG00 import WG00"
   ]
  },
  {
   "cell_type": "code",
   "execution_count": null,
   "metadata": {
    "collapsed": true
   },
   "outputs": [],
   "source": []
  }
 ],
 "metadata": {
  "kernelspec": {
   "display_name": "Python 3",
   "language": "python",
   "name": "python3"
  },
  "language_info": {
   "codemirror_mode": {
    "name": "ipython",
    "version": 3
   },
   "file_extension": ".py",
   "mimetype": "text/x-python",
   "name": "python",
   "nbconvert_exporter": "python",
   "pygments_lexer": "ipython3",
   "version": "3.6.0"
  }
 },
 "nbformat": 4,
 "nbformat_minor": 2
}
